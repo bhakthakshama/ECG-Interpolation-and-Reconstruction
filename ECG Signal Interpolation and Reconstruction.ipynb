{
  "nbformat": 4,
  "nbformat_minor": 0,
  "metadata": {
    "colab": {
      "provenance": []
    },
    "kernelspec": {
      "name": "python3",
      "display_name": "Python 3"
    }
  },
  "cells": [
    {
      "cell_type": "markdown",
      "source": [
        "---\n",
        "\n",
        "**Load essential libraries**\n",
        "\n",
        "---"
      ],
      "metadata": {
        "id": "Lj9vTpE2AOSO"
      }
    },
    {
      "cell_type": "code",
      "metadata": {
        "id": "AtKh7DZWkCMa"
      },
      "source": [
        "import pandas as pd\n",
        "import numpy as np\n",
        "import sys\n",
        "from scipy import linalg\n",
        "import matplotlib.pyplot as plt\n",
        "import matplotlib.cm as cm\n",
        "plt.style.use('dark_background')\n",
        "%matplotlib inline\n",
        "plt.rcParams['figure.figsize'] = (4.0, 4.0) # set default size of plots\n",
        "\n",
        "from sklearn.preprocessing import StandardScaler, RobustScaler\n",
        "\n",
        "from scipy.sparse import random\n",
        "from scipy import stats"
      ],
      "execution_count": null,
      "outputs": []
    },
    {
      "cell_type": "markdown",
      "source": [
        "---\n",
        "\n",
        "Mount Google drive folder if running in Colab\n",
        "\n",
        "---"
      ],
      "metadata": {
        "id": "UoH0fR1IAYvW"
      }
    },
    {
      "cell_type": "code",
      "source": [
        "## Mount Google drive folder if running in Colab\n",
        "if('google.colab' in sys.modules):\n",
        "    from google.colab import drive\n",
        "    drive.mount('/content/drive', force_remount = True)\n",
        "    # Change path below starting from /content/drive/MyDrive/Colab Notebooks/\n",
        "    # depending on how data is organized inside your Colab Notebooks folder in\n",
        "    # Google Drive\n",
        "    DIR = '/content/drive/MyDrive/Colab Notebooks/OddSemester2024/ALA'\n",
        "    DATA_DIR = DIR+'/Data/'\n",
        "else:\n",
        "    DATA_DIR = 'Data/'"
      ],
      "metadata": {
        "id": "Aayr6KbdIFJb",
        "colab": {
          "base_uri": "https://localhost:8080/"
        },
        "outputId": "c49b7164-e84c-487d-fae4-0c70b5f4463a"
      },
      "execution_count": null,
      "outputs": [
        {
          "output_type": "stream",
          "name": "stdout",
          "text": [
            "Mounted at /content/drive\n"
          ]
        }
      ]
    },
    {
      "cell_type": "markdown",
      "source": [
        "---\n",
        "\n",
        "Load ECG data\n",
        "\n",
        "---"
      ],
      "metadata": {
        "id": "iFBJpICfAcGC"
      }
    },
    {
      "cell_type": "code",
      "source": [
        "# Load ECG data\n",
        "FILE = DATA_DIR + 'ecg_missing.txt'\n",
        "df_ecg = pd.read_csv(FILE, header = None, names = ['ecgvalues'])\n",
        "print(df_ecg.head())\n",
        "print(df_ecg['ecgvalues'].dtypes)\n",
        "df_ecg['ecgvalues'] = df_ecg['ecgvalues'].astype(float)\n",
        "print(df_ecg['ecgvalues'].dtypes)"
      ],
      "metadata": {
        "id": "Zzh_Xu1NMwKN",
        "colab": {
          "base_uri": "https://localhost:8080/"
        },
        "outputId": "f7957c4b-ac7c-4828-8fa3-3ba5d03bc8e4"
      },
      "execution_count": null,
      "outputs": [
        {
          "output_type": "stream",
          "name": "stdout",
          "text": [
            "          ecgvalues\n",
            "0    -1.4374358e-02\n",
            "1               NaN\n",
            "2    -1.2637355e-02\n",
            "3               NaN\n",
            "4    -1.0812403e-02\n",
            "object\n",
            "float64\n"
          ]
        }
      ]
    },
    {
      "cell_type": "markdown",
      "source": [
        "---\n",
        "\n",
        "Check if there are any missing values\n",
        "\n",
        "---"
      ],
      "metadata": {
        "id": "-XI9kd3OBeJi"
      }
    },
    {
      "cell_type": "code",
      "source": [
        "# Check if there are any missing values\n",
        "np.mean(df_ecg['ecgvalues'].isnull())*100"
      ],
      "metadata": {
        "id": "tGblKaJZBjTv",
        "colab": {
          "base_uri": "https://localhost:8080/"
        },
        "outputId": "1ea50227-ecb0-4cb0-ed22-32d908105776"
      },
      "execution_count": null,
      "outputs": [
        {
          "output_type": "execute_result",
          "data": {
            "text/plain": [
              "50.0"
            ]
          },
          "metadata": {},
          "execution_count": 4
        }
      ]
    },
    {
      "cell_type": "markdown",
      "source": [
        "---\n",
        "\n",
        "Component plot of the ecg signal\n",
        "\n",
        "---"
      ],
      "metadata": {
        "id": "3WdJ6dsLBNen"
      }
    },
    {
      "cell_type": "code",
      "source": [
        "# Component plot of the ecg signal\n",
        "fig, ax = plt.subplots(1, 1)\n",
        "component_index = range(0, len(df_ecg['ecgvalues']))\n",
        "ax.scatter(component_index, df_ecg['ecgvalues'], color = 'white', marker = 'o', s = 5)\n",
        "ax.set_xlabel('Sample Number')\n",
        "ax.set_ylabel('Normalized Voltage')\n",
        "ax.set_title('ECG Signal With Missing Values')"
      ],
      "metadata": {
        "id": "_y_ysAi3SdFv",
        "colab": {
          "base_uri": "https://localhost:8080/",
          "height": 427
        },
        "outputId": "a1cd6406-29e6-407c-99a2-f410e85ed8c8"
      },
      "execution_count": null,
      "outputs": [
        {
          "output_type": "execute_result",
          "data": {
            "text/plain": [
              "Text(0.5, 1.0, 'ECG Signal With Missing Values')"
            ]
          },
          "metadata": {},
          "execution_count": 5
        },
        {
          "output_type": "display_data",
          "data": {
            "text/plain": [
              "<Figure size 400x400 with 1 Axes>"
            ],
            "image/png": "[encoded data removed]"
          },
          "metadata": {}
        }
      ]
    },
    {
      "cell_type": "markdown",
      "source": [
        "---\n",
        "\n",
        "Extract the indices corresponding to the missing and known ECG values. For simplicity, assume that the full ECG signal is a 6-vector x with samples 3, 5, and 6 missing as shown below:\n",
        "\n",
        "$$\\begin{align*}\n",
        "\\mathbf{x} &= \\begin{bmatrix}x_1\\\\x_2\\\\{\\color{yellow}{x_3}}\\\\x_4\\\\{\\color{yellow}{x_5}}\\\\{\\color{yellow}{x_6}}\\end{bmatrix} = \\begin{bmatrix}x_1\\\\x_2\\\\{\\color{yellow}{v_1}}\\\\x_4\\\\{\\color{yellow}{v_2}}\\\\{\\color{yellow}{v_3}}\\end{bmatrix}.\n",
        "\\end{align*}$$\n",
        "\n",
        "---"
      ],
      "metadata": {
        "id": "G2J6wTh1B3PB"
      }
    },
    {
      "cell_type": "code",
      "source": [
        "# Extract the indices corresponding to the missing ECG values\n",
        "indices_unknown = df_ecg[df_ecg['ecgvalues'].isnull()].index\n",
        "\n",
        "# Extract the indices corresponding to the known ECG values\n",
        "indices_known = df_ecg[~df_ecg['ecgvalues'].isnull()].index"
      ],
      "metadata": {
        "id": "JhhYcavxyXL4"
      },
      "execution_count": null,
      "outputs": []
    },
    {
      "cell_type": "markdown",
      "source": [
        "---\n",
        "\n",
        "Build a vector of known ecg_signal values. Using the simple ECG signal example, we get:\n",
        "\n",
        "$$\\mathbf{x}_\\text{known} = \\begin{bmatrix}x_1\\\\x_2\\\\x_4\\end{bmatrix}.$$\n",
        "\n",
        "---"
      ],
      "metadata": {
        "id": "5Mq3KOl_B-GE"
      }
    },
    {
      "cell_type": "code",
      "source": [
        "## Build a vector of known ecg_signal values\n",
        "x_known = df_ecg.loc[indices_known, 'ecgvalues']\n",
        "print(x_known)"
      ],
      "metadata": {
        "id": "T8idTDuo2n8s",
        "colab": {
          "base_uri": "https://localhost:8080/"
        },
        "outputId": "1e620777-92af-4fa8-fc6c-756b020e4ce5"
      },
      "execution_count": null,
      "outputs": [
        {
          "output_type": "stream",
          "name": "stdout",
          "text": [
            "0     -0.014374\n",
            "2     -0.012637\n",
            "4     -0.010812\n",
            "5     -0.009853\n",
            "8     -0.006548\n",
            "         ...   \n",
            "188    0.085758\n",
            "189    0.076497\n",
            "194    0.042017\n",
            "196    0.033077\n",
            "199    0.023651\n",
            "Name: ecgvalues, Length: 100, dtype: float64\n"
          ]
        }
      ]
    },
    {
      "cell_type": "markdown",
      "source": [
        "---\n",
        "\n",
        "Build the sampling matrices $\\mathbf{S}_1$ and $\\mathbf{S}_2$ such that\n",
        "\n",
        "$$\\begin{align*}\n",
        "\\underbrace{\\begin{bmatrix}?&?&?\\\\?&?&?\\\\?&?&?\\\\?&?&?\\\\?&?&?\\\\?&?&?\\end{bmatrix}}_{\\mathbf{S}_1}\\begin{bmatrix}x_1\\\\x_2\\\\x_4\\end{bmatrix}+\\underbrace{\\begin{bmatrix}?&?&?\\\\?&?&?\\\\?&?&?\\\\?&?&?\\\\?&?&?\\\\?&?&?\\end{bmatrix}}_{\\mathbf{S}_2}\\begin{bmatrix}{\\color{yellow}{v_1}}\\\\{\\color{yellow}{v_2}}\\\\{\\color{yellow}{v_3}}\\end{bmatrix}=\\begin{bmatrix}x_1\\\\x_2\\\\{\\color{yellow}{v_1}}\\\\x_4\\\\{\\color{yellow}{v_2}}\\\\{\\color{yellow}{v_3}}\\end{bmatrix}.\n",
        "\\end{align*}$$\n",
        "\n",
        "---"
      ],
      "metadata": {
        "id": "4AJJUPefCCAF"
      }
    },
    {
      "cell_type": "code",
      "source": [
        "I = np.eye(len(df_ecg))\n",
        "S1 = I[:, indices_known]\n",
        "S2 = I[:, indices_unknown]"
      ],
      "metadata": {
        "id": "O0zIvziq4LW3"
      },
      "execution_count": null,
      "outputs": []
    },
    {
      "cell_type": "markdown",
      "source": [
        "---\n",
        "\n",
        "Build the second-difference matrix $\\mathbf{D}$ which for the simple ECG example is\n",
        "\n",
        "$$\\mathbf{D} = \\begin{bmatrix}1&-2&1&0&0&0\\\\0&1&-2&1&0&0\\\\0&0&1&-2&1&0\\\\0&0&0&1&-2&1\\end{bmatrix}.$$\n",
        "\n",
        "Note that the shape of $\\mathbf{D}$ is $(6-2)\\times6 = 4\\times6.$\n",
        "\n",
        "We achieve this by building a $6\\times6$-matrix as follows and removing the 1st and last rows:\n",
        "\n",
        "$$\\mathbf{D} = \\begin{bmatrix}\\color{cyan}{-2}&\\color{pink}1&0&0&0&0\\\\\\color{pink}1&\\color{cyan}{-2}&\\color{pink}1&0&0&0\\\\0&\\color{pink}1&\\color{cyan}{-2}&\\color{pink}1&0&0\\\\0&0&\\color{pink}1&\\color{cyan}{-2}&\\color{pink}1&0\\\\0&0&0&\\color{pink}1&\\color{cyan}{-2}&\\color{pink}1\\\\0&0&0&0&\\color{pink}1&\\color{cyan}{-2}\\end{bmatrix}.$$\n",
        "\n",
        "\n",
        "---"
      ],
      "metadata": {
        "id": "-Yemt8heD6Mm"
      }
    },
    {
      "cell_type": "code",
      "source": [
        "## Build the second-difference matrix D for the simple ECG example\n",
        "a = np.array([1, 1, 1, 1, 1])\n",
        "b = np.array([-2, -2, -2, -2, -2, 2])\n",
        "D = np.diag(a, -1) + np.diag(b, 0) + np.diag(a, 1)\n",
        "print(D)\n",
        "print('D after removing 1st and last rows')\n",
        "D = D[1:-1, :]\n",
        "print(D)"
      ],
      "metadata": {
        "id": "AuL97bXulTK7",
        "colab": {
          "base_uri": "https://localhost:8080/"
        },
        "outputId": "ea326d7c-384f-4526-8d52-f5888972e2d5"
      },
      "execution_count": null,
      "outputs": [
        {
          "output_type": "stream",
          "name": "stdout",
          "text": [
            "[[-2  1  0  0  0  0]\n",
            " [ 1 -2  1  0  0  0]\n",
            " [ 0  1 -2  1  0  0]\n",
            " [ 0  0  1 -2  1  0]\n",
            " [ 0  0  0  1 -2  1]\n",
            " [ 0  0  0  0  1  2]]\n",
            "D after removing 1st and last rows\n",
            "[[ 1 -2  1  0  0  0]\n",
            " [ 0  1 -2  1  0  0]\n",
            " [ 0  0  1 -2  1  0]\n",
            " [ 0  0  0  1 -2  1]]\n"
          ]
        }
      ]
    },
    {
      "cell_type": "markdown",
      "source": [
        "---\n",
        "\n",
        "Using the simple ECG example, we will visualize the effect of multiplying a signal vector by the matrix $\\mathbf{D}.$\n",
        "\n",
        "---"
      ],
      "metadata": {
        "id": "N7aaHfMpBvGd"
      }
    },
    {
      "cell_type": "code",
      "source": [
        "## Using the simple ECG example, we will visualize the effect of multiplying\n",
        "## a signal vector by the matrix D\n",
        "\n",
        "a = np.array([10, 10, 10, 10, 10, 10]) # a constant signal\n",
        "b = np.array([10, 20, 30, 40, 50, 60]) # an increasing signal\n",
        "c = np.array([10, -10, 10, -10, 10, -10]) # a rapidly changing signal\n",
        "d = np.array([10, 0, 10, 20, 40, 00]) # a not-so-rapidly changing signal\n",
        "\n",
        "fig, axes = plt.subplots(2, 2, figsize = (5, 4))\n",
        "ax1, ax2, ax3, ax4 = axes.flatten()\n",
        "fig.tight_layout(pad = 4.0)\n",
        "ax1.plot(np.arange(len(a)), a, color = 'yellow', marker = 'o')\n",
        "ax1.set_xlabel('Sample number')\n",
        "ax1.set_ylabel('Signal value')\n",
        "ax2.plot(np.arange(len(b)), b, color = 'cyan', marker = 'o')\n",
        "ax2.set_xlabel('Sample number')\n",
        "ax2.set_ylabel('Signal value')\n",
        "ax3.plot(np.arange(len(c)), c, color = 'orange', marker = 'o')\n",
        "ax3.set_xlabel('Sample number')\n",
        "ax3.set_ylabel('Signal value')\n",
        "ax4.plot(np.arange(len(d)), d, color = 'magenta', marker = 'o')\n",
        "ax4.set_xlabel('Sample number')\n",
        "ax4.set_ylabel('Signal value')\n",
        "\n",
        "print(f'D times constant signal a = Da = {np.dot(D, a)} => ||Da|| = {np.linalg.norm(np.dot(D, a))}')\n",
        "print(f'D times increasing signal b = Db = {np.dot(D, b)} => ||Db|| = {np.linalg.norm(np.dot(D, b))}')\n",
        "print(f'D times rapidly changing signal c = Dc = {np.dot(D, c)} => ||Dc|| = {np.linalg.norm(np.dot(D, c))}') # highest value\n",
        "print(f'D times not so rapidly changing signal d = Dd = {np.dot(D, d)}  => ||Dd|| = {np.linalg.norm(np.dot(D, d))}')"
      ],
      "metadata": {
        "id": "nITAtxFhCLX0",
        "colab": {
          "base_uri": "https://localhost:8080/",
          "height": 410
        },
        "outputId": "0dc9c621-6190-40bc-8c5b-404f6404b838"
      },
      "execution_count": null,
      "outputs": [
        {
          "output_type": "stream",
          "name": "stdout",
          "text": [
            "D times constant signal a = Da = [0 0 0 0] => ||Da|| = 0.0\n",
            "D times increasing signal b = Db = [0 0 0 0] => ||Db|| = 0.0\n",
            "D times rapidly changing signal c = Dc = [ 40 -40  40 -40] => ||Dc|| = 80.0\n",
            "D times not so rapidly changing signal d = Dd = [ 20   0  10 -60]  => ||Dd|| = 64.03124237432849\n"
          ]
        },
        {
          "output_type": "display_data",
          "data": {
            "text/plain": [
              "<Figure size 500x400 with 4 Axes>"
            ],
            "image/png": "[encoded data removed]"
          },
          "metadata": {}
        }
      ]
    },
    {
      "cell_type": "markdown",
      "source": [
        "---\n",
        "\n",
        "Build the second-difference matrix D for the ECG data\n",
        "\n",
        "---"
      ],
      "metadata": {
        "id": "7iNyoKk-M9Gi"
      }
    },
    {
      "cell_type": "code",
      "source": [
        "## Build the second-difference matrix D for the ECG data\n",
        "n = len(df_ecg) # size of the signal\n",
        "a = 1*np.ones(n-1)\n",
        "b = -2*np.ones(n)\n",
        "D = np.diag(a, -1) + np.diag(b) + np.diag(a, 1)\n",
        "D = D[1:-1, :]\n",
        "D.shape"
      ],
      "metadata": {
        "id": "peWE5XNK4f8V",
        "colab": {
          "base_uri": "https://localhost:8080/"
        },
        "outputId": "a05dc8ab-f224-4be7-c365-62216e7647ba"
      },
      "execution_count": null,
      "outputs": [
        {
          "output_type": "execute_result",
          "data": {
            "text/plain": [
              "(198, 200)"
            ]
          },
          "metadata": {},
          "execution_count": 12
        }
      ]
    },
    {
      "cell_type": "markdown",
      "source": [
        "---\n",
        "\n",
        "Solving an inconsitent system of equations using the least squares approach.\n",
        "\n",
        "Consider solving the system of equations $\\mathbf{A}{\\color{yellow}{\\mathbf{v}}} = \\mathbf{b},$ where\n",
        "\n",
        "$$\\mathbf{A} = \\begin{bmatrix}1&0&0\\\\0&1&0\\\\0&0&1\\\\0&0&0\\end{bmatrix}\\ \\text{and }\\mathbf{b} = \\begin{bmatrix}1\\\\2\\\\3\\\\4\\end{bmatrix}.$$\n",
        "\n",
        "Note that there is no solution to this system of equations. We refer to the system as being \"inconsistent.\" The \"best\" approximation for the solution that we can come up with is\n",
        "\n",
        "$$\\hat{\\color{yellow}{\\mathbf{v}}} = \\begin{bmatrix}1\\\\2\\\\3\\end{bmatrix}.$$\n",
        "\n",
        "This solution is best in the sense that $$\\mathbf{A}\\hat{\\color{yellow}{\\mathbf{v}}} = \\begin{bmatrix}1&0&0\\\\0&1&0\\\\0&0&1\\\\0&0&0\\end{bmatrix}\\begin{bmatrix}1\\\\2\\\\3\\end{bmatrix}=\\begin{bmatrix}1\\\\2\\\\3\\\\0\\end{bmatrix}$$ is close as possible to the right hand side vector $$\\mathbf{b} = \\begin{bmatrix}1\\\\2\\\\3\\\\4\\end{bmatrix}.$$ We see that $$\\mathbf{A}\\hat{\\color{yellow}{\\mathbf{v}}}-\\mathbf{b}=\\begin{bmatrix}1\\\\2\\\\3\\\\0\\end{bmatrix}-\\begin{bmatrix}1\\\\2\\\\3\\\\4\\end{bmatrix}=\\begin{bmatrix}0\\\\0\\\\0\\\\-4\\end{bmatrix}$$ has most components equal to zeros and therefore has a small norm (magnitude). Therefore, $\\hat{\\color{yellow}{\\mathbf{v}}}$ is called the least squares solution because $\\lVert \\mathbf{A}\\hat{\\color{yellow}{\\mathbf{v}}}-\\mathbf{b}\\rVert_2^2$ is the smallest possible value.  \n",
        "\n",
        "---"
      ],
      "metadata": {
        "id": "9xxMIxPLM-yE"
      }
    },
    {
      "cell_type": "code",
      "source": [
        "## Solving an inconsitent system of equations using the least squares approach\n",
        "A = np.array([[1, 0, 0], [0, 1, 0], [0, 0, 1], [0, 0, 0]])\n",
        "print(A)\n",
        "b = np.array([1, 2, 3, 4])\n",
        "print(b)\n",
        "# Get the least squares solution\n",
        "vhat = linalg.lstsq(A, b)[0]\n",
        "print(vhat)"
      ],
      "metadata": {
        "id": "6p0XvIK4P4vV",
        "colab": {
          "base_uri": "https://localhost:8080/"
        },
        "outputId": "dddd3766-512e-4e4f-c478-7020273d9c85"
      },
      "execution_count": null,
      "outputs": [
        {
          "output_type": "stream",
          "name": "stdout",
          "text": [
            "[[1 0 0]\n",
            " [0 1 0]\n",
            " [0 0 1]\n",
            " [0 0 0]]\n",
            "[1 2 3 4]\n",
            "[1. 2. 3.]\n"
          ]
        }
      ]
    },
    {
      "cell_type": "markdown",
      "source": [
        "---\n",
        "\n",
        "Reconstruct the ECG signal such that it is smooth by solving the following linear least squares problem:\n",
        "\n",
        "$$\\begin{align*}\\min_{\\color{yellow}{\\mathbf{v}}}\\left\\lVert\\mathbf{D}\\hat{\\mathbf{x}}\\right\\rVert_2^2 = \\min_{\\color{yellow}{\\mathbf{v}}}\\left\\lVert\\mathbf{D}\\left(\\mathbf{S}_1\\mathbf{x}_\\text{known} + \\mathbf{S}_2{\\color{yellow}{\\mathbf{v}}}\\right)\\right\\rVert_2^2 = \\min_\\mathbf{v}\\left\\lVert\\underbrace{\\mathbf{D}\\mathbf{S}_1\\mathbf{x}_\\text{known}}_{=-\\mathbf{b}} + \\underbrace{\\mathbf{D}\\mathbf{S}_2}_{=\\mathbf{A}}{\\color{yellow}{\\mathbf{v}}}\\right\\rVert_2^2.\\end{align*}$$\n",
        "\n",
        "---"
      ],
      "metadata": {
        "id": "r1QX32AYEVuY"
      }
    },
    {
      "cell_type": "code",
      "source": [
        "## Reconstruct the ECG signal such that it is smooth\n",
        "A = np.dot(D, S2)\n",
        "b = np.dot(np.dot(-D, S1), x_known)\n",
        "vhat = linalg.lstsq(A, b)[0]\n",
        "#print(v[0].flatten().shape)\n",
        "df_ecg.loc[indices_unknown, 'ecgvalues'] =  vhat.flatten()"
      ],
      "metadata": {
        "id": "KZNeLP0bc38j"
      },
      "execution_count": null,
      "outputs": []
    },
    {
      "cell_type": "code",
      "source": [
        "# Check if there are any missing values\n",
        "np.sum(df_ecg['ecgvalues'].isnull())"
      ],
      "metadata": {
        "id": "IAy2ORtJgUtk",
        "colab": {
          "base_uri": "https://localhost:8080/"
        },
        "outputId": "0bbd03f3-83e2-45de-882e-cdbee68c6de5"
      },
      "execution_count": null,
      "outputs": [
        {
          "output_type": "execute_result",
          "data": {
            "text/plain": [
              "0"
            ]
          },
          "metadata": {},
          "execution_count": 15
        }
      ]
    },
    {
      "cell_type": "code",
      "source": [
        "## Component plot of the reconstructed ecg signal\n",
        "fig, ax = plt.subplots(1, 1)\n",
        "component_index = np.arange(0, len(df_ecg['ecgvalues']))\n",
        "ax.scatter(component_index[np.array(indices_known)], df_ecg.loc[indices_known, 'ecgvalues'], color = 'white', s = 1)\n",
        "ax.scatter(component_index[np.array(indices_unknown)], df_ecg.loc[indices_unknown, 'ecgvalues'], color = 'red', s = 1)\n",
        "ax.plot(component_index, df_ecg['ecgvalues'], color = 'gray', linewidth = 0.2)\n",
        "ax.set_xlabel('Sample Number')\n",
        "ax.set_ylabel('Normalized Voltage')\n",
        "ax.set_title('ECG Signal With Missing Values Interpolated');"
      ],
      "metadata": {
        "id": "oyPhywzrUetV",
        "colab": {
          "base_uri": "https://localhost:8080/",
          "height": 410
        },
        "outputId": "afc75cbb-8c38-4a70-da48-f1d7a829c499"
      },
      "execution_count": null,
      "outputs": [
        {
          "output_type": "display_data",
          "data": {
            "text/plain": [
              "<Figure size 400x400 with 1 Axes>"
            ],
            "image/png": "[encoded data removed]"
          },
          "metadata": {}
        }
      ]
    }
  ]
}